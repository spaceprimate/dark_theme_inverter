{
 "cells": [
  {
   "cell_type": "markdown",
   "metadata": {},
   "source": [
    "# String to convert"
   ]
  },
  {
   "cell_type": "code",
   "execution_count": 57,
   "metadata": {},
   "outputs": [],
   "source": [
    "css_content = \"\"\"\n",
    ".text {color: #666666;}\n",
    "\"\"\""
   ]
  },
  {
   "cell_type": "markdown",
   "metadata": {},
   "source": [
    "# Invert Hex Luminosity"
   ]
  },
  {
   "cell_type": "code",
   "execution_count": 58,
   "metadata": {},
   "outputs": [],
   "source": [
    "import re\n",
    "import colorsys\n",
    "\n",
    "# regex pattern for matching hex colors (#fff, #ffffff)\n",
    "hex_pattern = r'#[0-9a-fA-F]{3}(?:[0-9a-fA-F]{3})?\\b'\n",
    "\n",
    "def invert(hex_color):\n",
    "  # if this is a 3 char hex, make it 6\n",
    "  if len(hex_color) == 4:\n",
    "    hex_color = f'#{hex_color[1]}{hex_color[1]}{hex_color[2]}{hex_color[2]}{hex_color[3]}{hex_color[3]}'\n",
    "\n",
    "  r = int(hex_color[1:3], 16)\n",
    "  g = int(hex_color[3:5], 16)\n",
    "  b = int(hex_color[5:7], 16)\n",
    "  h, l, s = colorsys.rgb_to_hls(r / 255, g / 255, b / 255)\n",
    "  h, l, s = int(h * 360), int(l * 100), int(s * 100)\n",
    "  l = 100 - l\n",
    "\n",
    "  r, g, b = colorsys.hls_to_rgb(h / 360, l / 100, s / 100)\n",
    "  r, g, b = int(r * 255), int(g * 255), int(b * 255)\n",
    "\n",
    "  return f\"#{r:02x}{g:02x}{b:02x}\"\n",
    "\n",
    "new_css = re.sub(hex_pattern, lambda match: invert(match.group(0)), css_content)\n",
    "text_file = open(\"AppDark.scss\", \"w\")\n",
    "n = text_file.write(new_css)\n",
    "text_file.close()"
   ]
  }
 ],
 "metadata": {
  "kernelspec": {
   "display_name": "base",
   "language": "python",
   "name": "python3"
  },
  "language_info": {
   "codemirror_mode": {
    "name": "ipython",
    "version": 3
   },
   "file_extension": ".py",
   "mimetype": "text/x-python",
   "name": "python",
   "nbconvert_exporter": "python",
   "pygments_lexer": "ipython3",
   "version": "3.9.13"
  },
  "orig_nbformat": 4
 },
 "nbformat": 4,
 "nbformat_minor": 2
}
